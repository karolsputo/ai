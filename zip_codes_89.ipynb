{
  "nbformat": 4,
  "nbformat_minor": 0,
  "metadata": {
    "colab": {
      "name": "Backpropagation applied to handwritten zip code recognition",
      "provenance": [],
      "collapsed_sections": [],
      "authorship_tag": "ABX9TyO8KEZY1aXBFlo1cUh7lQrI"
    },
    "kernelspec": {
      "name": "python3",
      "display_name": "Python 3"
    }
  },
  "cells": [
    {
      "cell_type": "markdown",
      "metadata": {
        "id": "f1_oARpnpGdW"
      },
      "source": [
        "Backpropagation applied to handwritten zip code recognition\n",
        "http://www.ics.uci.edu/~welling/teaching/273ASpring09/lecun-89e.pdf\n",
        "\n",
        "Data\n",
        "https://web.stanford.edu/~hastie/StatLearnSparsity_files/DATA/zipcode.html"
      ]
    },
    {
      "cell_type": "code",
      "metadata": {
        "colab": {
          "base_uri": "https://localhost:8080/"
        },
        "id": "7yG3t6-yjv-q",
        "outputId": "f7b2af65-a473-4d54-a8a4-ff6df5c93d7e"
      },
      "source": [
        "!wget https://web.stanford.edu/~hastie/ElemStatLearn/datasets/zip.train.gz\n",
        "!wget https://web.stanford.edu/~hastie/ElemStatLearn/datasets/zip.test.gz"
      ],
      "execution_count": null,
      "outputs": [
        {
          "output_type": "stream",
          "text": [
            "--2020-12-16 22:00:31--  https://web.stanford.edu/~hastie/ElemStatLearn/datasets/zip.train.gz\n",
            "Resolving web.stanford.edu (web.stanford.edu)... 171.67.215.200, 2607:f6d0:0:925a::ab43:d7c8\n",
            "Connecting to web.stanford.edu (web.stanford.edu)|171.67.215.200|:443... connected.\n",
            "HTTP request sent, awaiting response... 200 OK\n",
            "Length: 1829071 (1.7M) [application/x-gzip]\n",
            "Saving to: ‘zip.train.gz’\n",
            "\n",
            "zip.train.gz        100%[===================>]   1.74M  1.26MB/s    in 1.4s    \n",
            "\n",
            "2020-12-16 22:00:33 (1.26 MB/s) - ‘zip.train.gz’ saved [1829071/1829071]\n",
            "\n",
            "--2020-12-16 22:00:33--  https://web.stanford.edu/~hastie/ElemStatLearn/datasets/zip.test.gz\n",
            "Resolving web.stanford.edu (web.stanford.edu)... 171.67.215.200, 2607:f6d0:0:925a::ab43:d7c8\n",
            "Connecting to web.stanford.edu (web.stanford.edu)|171.67.215.200|:443... connected.\n",
            "HTTP request sent, awaiting response... 200 OK\n",
            "Length: 439208 (429K) [application/x-gzip]\n",
            "Saving to: ‘zip.test.gz’\n",
            "\n",
            "zip.test.gz         100%[===================>] 428.91K  1.50MB/s    in 0.3s    \n",
            "\n",
            "2020-12-16 22:00:34 (1.50 MB/s) - ‘zip.test.gz’ saved [439208/439208]\n",
            "\n"
          ],
          "name": "stdout"
        }
      ]
    },
    {
      "cell_type": "code",
      "metadata": {
        "colab": {
          "base_uri": "https://localhost:8080/"
        },
        "id": "Bcw4OUhAkb9Z",
        "outputId": "c02d06e1-c58c-47ea-c19d-bebf3330dda4"
      },
      "source": [
        "!ls -la"
      ],
      "execution_count": null,
      "outputs": [
        {
          "output_type": "stream",
          "text": [
            "total 2236\n",
            "drwxr-xr-x 1 root root    4096 Dec 16 22:00 .\n",
            "drwxr-xr-x 1 root root    4096 Dec 16 21:59 ..\n",
            "drwxr-xr-x 1 root root    4096 Dec 10 17:17 .config\n",
            "drwxr-xr-x 1 root root    4096 Dec  2 22:04 sample_data\n",
            "-rw-r--r-- 1 root root  439208 Nov 20  2007 zip.test.gz\n",
            "-rw-r--r-- 1 root root 1829071 Nov 11  2001 zip.train.gz\n"
          ],
          "name": "stdout"
        }
      ]
    },
    {
      "cell_type": "code",
      "metadata": {
        "colab": {
          "base_uri": "https://localhost:8080/"
        },
        "id": "qal3ly0_kcsi",
        "outputId": "ed0b75e5-6cca-4a3a-a54b-b0da6f260700"
      },
      "source": [
        "import gzip\n",
        "// 7291 observations\n",
        "train = gzip.open(\"zip.train.gz\", \"rb\").read()\n",
        "// 2007\n",
        "test = gzip.open(\"zip.test.gz\", \"rb\").read()\n",
        "len(train)"
      ],
      "execution_count": null,
      "outputs": [
        {
          "output_type": "execute_result",
          "data": {
            "text/plain": [
              "14512253"
            ]
          },
          "metadata": {
            "tags": []
          },
          "execution_count": 20
        }
      ]
    },
    {
      "cell_type": "code",
      "metadata": {
        "id": "n43wrwuhp61d"
      },
      "source": [
        ""
      ],
      "execution_count": null,
      "outputs": []
    }
  ]
}